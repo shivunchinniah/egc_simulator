{
 "cells": [
  {
   "cell_type": "code",
   "execution_count": 1,
   "id": "3f27e41e",
   "metadata": {},
   "outputs": [
    {
     "data": {
      "text/plain": [
       "{'weight': 67.93861135305012,\n",
       " 'route': [0, 35, 0],\n",
       " 'floor': 0,\n",
       " 'route_index': 2,\n",
       " 'state': <States.Idle: 1>,\n",
       " 'waitingTime': 704.5,\n",
       " 'rideTime': 172.5}"
      ]
     },
     "execution_count": 1,
     "metadata": {},
     "output_type": "execute_result"
    }
   ],
   "source": [
    "import pickle\n",
    "import pandas as pd\n",
    "import matplotlib.pyplot as plt\n",
    "from passenger import *\n",
    "\n",
    "\n",
    "p = 1500\n",
    "e = 20\n",
    "f = 80\n",
    "c = 'OptimisedDropOffController'\n",
    "file = open('out_p{}e{}f{}c{}.bin'.format(p, e, f, c), 'rb')\n",
    "\n",
    "db = pickle.load(file)\n",
    "passengers = db['passengers']\n",
    "file.close\n",
    "\n",
    "\n",
    "p_dict = [vars(passenger) for passenger in passengers]\n",
    "\n",
    "\n",
    "p_dict[0]\n"
   ]
  },
  {
   "cell_type": "code",
   "execution_count": 2,
   "id": "27eaa7e6",
   "metadata": {},
   "outputs": [
    {
     "data": {
      "text/html": [
       "<div>\n",
       "<style scoped>\n",
       "    .dataframe tbody tr th:only-of-type {\n",
       "        vertical-align: middle;\n",
       "    }\n",
       "\n",
       "    .dataframe tbody tr th {\n",
       "        vertical-align: top;\n",
       "    }\n",
       "\n",
       "    .dataframe thead th {\n",
       "        text-align: right;\n",
       "    }\n",
       "</style>\n",
       "<table border=\"1\" class=\"dataframe\">\n",
       "  <thead>\n",
       "    <tr style=\"text-align: right;\">\n",
       "      <th></th>\n",
       "      <th>weight</th>\n",
       "      <th>route</th>\n",
       "      <th>floor</th>\n",
       "      <th>route_index</th>\n",
       "      <th>state</th>\n",
       "      <th>waitingTime</th>\n",
       "      <th>rideTime</th>\n",
       "    </tr>\n",
       "  </thead>\n",
       "  <tbody>\n",
       "    <tr>\n",
       "      <th>0</th>\n",
       "      <td>67.938611</td>\n",
       "      <td>[0, 35, 0]</td>\n",
       "      <td>0</td>\n",
       "      <td>2</td>\n",
       "      <td>States.Idle</td>\n",
       "      <td>704.5</td>\n",
       "      <td>172.5</td>\n",
       "    </tr>\n",
       "    <tr>\n",
       "      <th>1</th>\n",
       "      <td>107.175362</td>\n",
       "      <td>[0, 20, 4, 56, 41, 29, 0]</td>\n",
       "      <td>0</td>\n",
       "      <td>6</td>\n",
       "      <td>States.Idle</td>\n",
       "      <td>8447.5</td>\n",
       "      <td>404.5</td>\n",
       "    </tr>\n",
       "    <tr>\n",
       "      <th>2</th>\n",
       "      <td>93.382197</td>\n",
       "      <td>[0, 79, 0]</td>\n",
       "      <td>0</td>\n",
       "      <td>2</td>\n",
       "      <td>States.Idle</td>\n",
       "      <td>120.5</td>\n",
       "      <td>341.5</td>\n",
       "    </tr>\n",
       "    <tr>\n",
       "      <th>3</th>\n",
       "      <td>122.945063</td>\n",
       "      <td>[0, 26, 10, 77, 33, 0]</td>\n",
       "      <td>0</td>\n",
       "      <td>5</td>\n",
       "      <td>States.Idle</td>\n",
       "      <td>9190.5</td>\n",
       "      <td>1016.0</td>\n",
       "    </tr>\n",
       "    <tr>\n",
       "      <th>4</th>\n",
       "      <td>10.000000</td>\n",
       "      <td>[0, 34, 0]</td>\n",
       "      <td>0</td>\n",
       "      <td>2</td>\n",
       "      <td>States.Idle</td>\n",
       "      <td>955.0</td>\n",
       "      <td>181.5</td>\n",
       "    </tr>\n",
       "    <tr>\n",
       "      <th>...</th>\n",
       "      <td>...</td>\n",
       "      <td>...</td>\n",
       "      <td>...</td>\n",
       "      <td>...</td>\n",
       "      <td>...</td>\n",
       "      <td>...</td>\n",
       "      <td>...</td>\n",
       "    </tr>\n",
       "    <tr>\n",
       "      <th>1495</th>\n",
       "      <td>78.229296</td>\n",
       "      <td>[0, 53, 22, 1, 33, 0]</td>\n",
       "      <td>0</td>\n",
       "      <td>5</td>\n",
       "      <td>States.Idle</td>\n",
       "      <td>490.5</td>\n",
       "      <td>399.0</td>\n",
       "    </tr>\n",
       "    <tr>\n",
       "      <th>1496</th>\n",
       "      <td>170.000000</td>\n",
       "      <td>[0, 59, 48, 25, 70, 0]</td>\n",
       "      <td>0</td>\n",
       "      <td>5</td>\n",
       "      <td>States.Idle</td>\n",
       "      <td>3818.0</td>\n",
       "      <td>669.5</td>\n",
       "    </tr>\n",
       "    <tr>\n",
       "      <th>1497</th>\n",
       "      <td>57.312862</td>\n",
       "      <td>[0, 77, 67, 32, 17, 0]</td>\n",
       "      <td>0</td>\n",
       "      <td>5</td>\n",
       "      <td>States.Idle</td>\n",
       "      <td>400.5</td>\n",
       "      <td>718.5</td>\n",
       "    </tr>\n",
       "    <tr>\n",
       "      <th>1498</th>\n",
       "      <td>91.080338</td>\n",
       "      <td>[0, 22, 1, 64, 41, 37, 0]</td>\n",
       "      <td>0</td>\n",
       "      <td>6</td>\n",
       "      <td>States.Idle</td>\n",
       "      <td>323.5</td>\n",
       "      <td>392.0</td>\n",
       "    </tr>\n",
       "    <tr>\n",
       "      <th>1499</th>\n",
       "      <td>63.515224</td>\n",
       "      <td>[0, 2, 48, 51, 31, 33, 0]</td>\n",
       "      <td>0</td>\n",
       "      <td>6</td>\n",
       "      <td>States.Idle</td>\n",
       "      <td>2466.5</td>\n",
       "      <td>257.5</td>\n",
       "    </tr>\n",
       "  </tbody>\n",
       "</table>\n",
       "<p>1500 rows × 7 columns</p>\n",
       "</div>"
      ],
      "text/plain": [
       "          weight                      route  floor  route_index        state  \\\n",
       "0      67.938611                 [0, 35, 0]      0            2  States.Idle   \n",
       "1     107.175362  [0, 20, 4, 56, 41, 29, 0]      0            6  States.Idle   \n",
       "2      93.382197                 [0, 79, 0]      0            2  States.Idle   \n",
       "3     122.945063     [0, 26, 10, 77, 33, 0]      0            5  States.Idle   \n",
       "4      10.000000                 [0, 34, 0]      0            2  States.Idle   \n",
       "...          ...                        ...    ...          ...          ...   \n",
       "1495   78.229296      [0, 53, 22, 1, 33, 0]      0            5  States.Idle   \n",
       "1496  170.000000     [0, 59, 48, 25, 70, 0]      0            5  States.Idle   \n",
       "1497   57.312862     [0, 77, 67, 32, 17, 0]      0            5  States.Idle   \n",
       "1498   91.080338  [0, 22, 1, 64, 41, 37, 0]      0            6  States.Idle   \n",
       "1499   63.515224  [0, 2, 48, 51, 31, 33, 0]      0            6  States.Idle   \n",
       "\n",
       "      waitingTime  rideTime  \n",
       "0           704.5     172.5  \n",
       "1          8447.5     404.5  \n",
       "2           120.5     341.5  \n",
       "3          9190.5    1016.0  \n",
       "4           955.0     181.5  \n",
       "...           ...       ...  \n",
       "1495        490.5     399.0  \n",
       "1496       3818.0     669.5  \n",
       "1497        400.5     718.5  \n",
       "1498        323.5     392.0  \n",
       "1499       2466.5     257.5  \n",
       "\n",
       "[1500 rows x 7 columns]"
      ]
     },
     "execution_count": 2,
     "metadata": {},
     "output_type": "execute_result"
    }
   ],
   "source": [
    "data = pd.DataFrame.from_records(p_dict)\n",
    "data"
   ]
  },
  {
   "cell_type": "code",
   "execution_count": 3,
   "id": "941ad63b",
   "metadata": {},
   "outputs": [
    {
     "data": {
      "text/plain": [
       "<AxesSubplot:ylabel='Frequency'>"
      ]
     },
     "execution_count": 3,
     "metadata": {},
     "output_type": "execute_result"
    },
    {
     "data": {
      "image/png": "[encoded data removed]",
      "text/plain": [
       "<Figure size 432x288 with 1 Axes>"
      ]
     },
     "metadata": {
      "needs_background": "light"
     },
     "output_type": "display_data"
    }
   ],
   "source": [
    "data['weight'].plot.hist(bins=10)"
   ]
  },
  {
   "cell_type": "code",
   "execution_count": 4,
   "id": "07507229",
   "metadata": {},
   "outputs": [],
   "source": [
    "data['meanWait'] = data.waitingTime / data['route'].map(len)\n",
    "data['meanTravel'] = data.rideTime / data['route'].map(len)"
   ]
  },
  {
   "cell_type": "code",
   "execution_count": 5,
   "id": "e5237c0b",
   "metadata": {},
   "outputs": [
    {
     "data": {
      "text/plain": [
       "Text(0.5, 1.0, 'Wait Times Distribution (elevators=20, floors=80)')"
      ]
     },
     "execution_count": 5,
     "metadata": {},
     "output_type": "execute_result"
    },
    {
     "data": {
      "image/png": "[encoded data removed]",
      "text/plain": [
       "<Figure size 432x288 with 1 Axes>"
      ]
     },
     "metadata": {
      "needs_background": "light"
     },
     "output_type": "display_data"
    }
   ],
   "source": [
    "from cProfile import label\n",
    "\n",
    "\n",
    "data.meanWait.plot.hist(alpha=0.5, bins=2)\n",
    "# data.meanTravel.plot.hist(alpha=0.5)\n",
    "# (data.meanWait + data.meanTravel).plot.hist(alpha=0.5, label=\"combined\")\n",
    "# plt.legend()\n",
    "plt.xlabel('Wait Time (s)')\n",
    "plt.xlim([0, 8000])\n",
    "plt.ylim([0, 600])\n",
    "plt.title('Wait Times Distribution (elevators={}, floors={})'.format(e, f))"
   ]
  },
  {
   "cell_type": "code",
   "execution_count": 6,
   "id": "e5c37bf9",
   "metadata": {},
   "outputs": [
    {
     "data": {
      "text/plain": [
       "count    1500.000000\n",
       "mean      467.180463\n",
       "std       531.488384\n",
       "min         0.333333\n",
       "25%        66.883929\n",
       "50%       247.125000\n",
       "75%       727.625000\n",
       "max      3317.166667\n",
       "Name: meanWait, dtype: float64"
      ]
     },
     "execution_count": 6,
     "metadata": {},
     "output_type": "execute_result"
    }
   ],
   "source": [
    "data.meanWait.describe()"
   ]
  },
  {
   "cell_type": "code",
   "execution_count": 7,
   "id": "1c6f9abf",
   "metadata": {},
   "outputs": [
    {
     "name": "stdout",
     "output_type": "stream",
     "text": [
      "Estimated throughput: 0.25305555555555553 0.13342085235920856\n"
     ]
    },
    {
     "data": {
      "text/plain": [
       "Text(0.5, 1.0, 'Throughput Curve (elevators=20, floors=80)')"
      ]
     },
     "execution_count": 7,
     "metadata": {},
     "output_type": "execute_result"
    },
    {
     "data": {
      "image/png": "[encoded data removed]",
      "text/plain": [
       "<Figure size 540x360 with 1 Axes>"
      ]
     },
     "metadata": {
      "needs_background": "light"
     },
     "output_type": "display_data"
    }
   ],
   "source": [
    "throughput = db['throughput']\n",
    "\n",
    "hours_time = [x / (60*60) for x in throughput['timestamps']]\n",
    "\n",
    "\n",
    "fig = plt.figure()\n",
    "scale  = 1.6\n",
    "fig.set_figwidth(12/scale)\n",
    "fig.set_figheight(8/scale)\n",
    "\n",
    "elevator_raw = pd.DataFrame(throughput['elevator']).rolling(6).mean()\n",
    "apmean = [elevator_raw.mean()[0]] * len(throughput['timestamps'])\n",
    "approx = [elevator_raw.max()[0]] * len(throughput['timestamps'])\n",
    "plt.plot(hours_time, throughput['elevator'])\n",
    "plt.plot(hours_time, throughput['demand'])\n",
    "# plt.plot(throughput['timestamps'], elevator_raw)\n",
    "plt.plot(hours_time, approx)\n",
    "# plt.plot(throughput['timestamps'], apmean)\n",
    "plt.xlabel('Hour of Day')\n",
    "plt.ylabel('Passenger Rate (people/second)')\n",
    "print('Estimated throughput:', approx[0], apmean[0])\n",
    "plt.legend(['Actual Elevator Throughput', 'Passenger Traffic Demand', 'Maximum Elevator Throughput'])\n",
    "plt.title('Throughput Curve (elevators={}, floors={})'.format(e, f))\n"
   ]
  }
 ],
 "metadata": {
  "kernelspec": {
   "display_name": "Python 3 (ipykernel)",
   "language": "python",
   "name": "python3"
  },
  "language_info": {
   "codemirror_mode": {
    "name": "ipython",
    "version": 3
   },
   "file_extension": ".py",
   "mimetype": "text/x-python",
   "name": "python",
   "nbconvert_exporter": "python",
   "pygments_lexer": "ipython3",
   "version": "3.10.2"
  },
  "vscode": {
   "interpreter": {
    "hash": "c5949226b9bd657367dc812a6053effeb5db480ba580e48ec130fe7b4d124ef4"
   }
  }
 },
 "nbformat": 4,
 "nbformat_minor": 5
}
