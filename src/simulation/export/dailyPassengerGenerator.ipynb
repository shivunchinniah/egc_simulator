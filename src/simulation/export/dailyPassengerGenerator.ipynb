{
 "cells": [
  {
   "cell_type": "markdown",
   "metadata": {},
   "source": [
    "\n",
    "The objective of this file is to generate a list of timestamps for when a passenger\n",
    "should initiate a trip between floors. \n",
    "This file generates a list of passengers, and their trips.\n",
    "Additionally an array of tuples containing a timestamp in seconds \n",
    "from 6AM to around 7PM as well as a passenger id will generated\n",
    "this indicates that the passenger should initiate a trip."
   ]
  },
  {
   "cell_type": "code",
   "execution_count": 1,
   "metadata": {},
   "outputs": [
    {
     "data": {
      "text/plain": [
       "[<matplotlib.lines.Line2D at 0x2b7a99bfbb0>]"
      ]
     },
     "execution_count": 1,
     "metadata": {},
     "output_type": "execute_result"
    },
    {
     "data": {
      "image/png": "[encoded data removed]",
      "text/plain": [
       "<Figure size 432x288 with 1 Axes>"
      ]
     },
     "metadata": {
      "needs_background": "light"
     },
     "output_type": "display_data"
    }
   ],
   "source": [
    "from passenger import *\n",
    "import numpy as np\n",
    "from scipy import interpolate\n",
    "from scipy import integrate\n",
    "import matplotlib.pyplot as plt\n",
    "import random\n",
    "\n",
    "\n",
    "# // -------- Simulation Constants --------\n",
    "\n",
    "simulation_params = {\n",
    "    'floors': 80,\n",
    "    'elevators': 10, \n",
    "    'loading_time': 6, # seconds\n",
    "    'offloading_time': 6, # seconds\n",
    "    'time_per_floor': 4, # seconds\n",
    "    'floor_height': 4, # metres\n",
    "    'dt': 1, # seconds simulation step interval\n",
    "    'passengers': 1500,\n",
    "\n",
    "}\n",
    "\n",
    "hours = np.array([6, 7, 8, 9, 10, 11, 12, 13, 14, 15, 16, 17, 18, 19])\n",
    "val =   np.array([0, 30, 75, 50, 30, 10, 50, 90, 15, 10, 10, 20, 50, 0])\n",
    "\n",
    "\n",
    "h2s = 60 * 60\n",
    "\n",
    "seconds = hours * 60 * 60\n",
    "seconds_int = np.linspace(6 * h2s, 19 * h2s, num = 150, endpoint=True)\n",
    "tk = interpolate.splrep(seconds, val)\n",
    "val_int = interpolate.splev(seconds_int, tk)\n",
    "val_int = val_int.clip(min=0)\n",
    "\n",
    "start = np.min(seconds_int)\n",
    "end = np.max(seconds_int)\n",
    "\n",
    "simulation_params['start'] = start\n",
    "simulation_params['end'] = end\n",
    "\n",
    "norm_int = val_int / np.sum(val_int)\n",
    "\n",
    "cum_int = np.cumsum(norm_int) \n",
    "\n",
    "plt.plot(seconds_int, norm_int)\n"
   ]
  },
  {
   "cell_type": "markdown",
   "metadata": {},
   "source": [
    "The function below generates Passengers as well as the trips that they will make\n",
    "\n",
    "*Assumptions*:\n",
    "- Weights are normaly distributed mean: 65kg and standard deviation of 30kg (assuming luggage)\n",
    "- passengers always start and end at floor 0.\n",
    "- Passengers can make up to 7 trips in a day and at least 2 (one up and down)\n"
   ]
  },
  {
   "cell_type": "code",
   "execution_count": 2,
   "metadata": {},
   "outputs": [],
   "source": [
    "\n",
    "def generatePassengers(n, sp):\n",
    "    \n",
    "    weights = np.clip(np.random.normal(65, 30, n), 10, 170)\n",
    "    trips = np.random.randint(3, 8, n)\n",
    "    \n",
    "    select = np.random.randint(0, sp['floors'], np.sum(trips - 2))\n",
    "    select_index = 0\n",
    "\n",
    "    out = []\n",
    "\n",
    "    tripOwner = []\n",
    "\n",
    "    for i in range(n):\n",
    "        route = [0] * trips[i]\n",
    "\n",
    "        tripOwner.extend([i] * (trips[i]-1))\n",
    "\n",
    "        for y in range (1, trips[i]-1):\n",
    "            route[y] = select[select_index]\n",
    "            select_index = select_index + 1\n",
    "\n",
    "            while(route[y] == route[y-1]):\n",
    "                route[y] = np.random.randint(1, sp['floors'] - 1, 1)[0]\n",
    "\n",
    "        # check last route is not 0\n",
    "        while(route[trips[i]-2] == route[trips[i]-1]):\n",
    "            route[trips[i]-2] = np.random.randint(1, sp['floors'] - 1, 1)[0]\n",
    "\n",
    "\n",
    "        out.append(Passenger(weights[i], route))\n",
    "\n",
    "    return {\n",
    "        'passengers': out,\n",
    "        'total_trips': sum(trips) - n,\n",
    "        'trip_owner': tripOwner\n",
    "    }\n"
   ]
  },
  {
   "cell_type": "code",
   "execution_count": 3,
   "metadata": {},
   "outputs": [
    {
     "name": "stdout",
     "output_type": "stream",
     "text": [
      "6094 6094\n"
     ]
    }
   ],
   "source": [
    "# Assume the building of 10 floors has 200 people\n",
    "\n",
    "passengers = generatePassengers(simulation_params['passengers'], simulation_params)\n",
    "\n",
    "print(passengers['total_trips'], len(passengers['trip_owner']))"
   ]
  },
  {
   "cell_type": "code",
   "execution_count": 4,
   "metadata": {},
   "outputs": [
    {
     "data": {
      "text/plain": [
       "[487,\n",
       " 25,\n",
       " 248,\n",
       " 1206,\n",
       " 637,\n",
       " 930,\n",
       " 153,\n",
       " 939,\n",
       " 91,\n",
       " 1498,\n",
       " 446,\n",
       " 222,\n",
       " 1199,\n",
       " 75,\n",
       " 1080,\n",
       " 1007,\n",
       " 1027,\n",
       " 342,\n",
       " 440,\n",
       " 308]"
      ]
     },
     "execution_count": 4,
     "metadata": {},
     "output_type": "execute_result"
    }
   ],
   "source": [
    "\n",
    "shuffled_trips = list(passengers['trip_owner']); random.shuffle(shuffled_trips)\n",
    "\n",
    "shuffled_trips[:20]\n"
   ]
  },
  {
   "cell_type": "code",
   "execution_count": 5,
   "metadata": {},
   "outputs": [
    {
     "name": "stdout",
     "output_type": "stream",
     "text": [
      "[23259, 23261, 23281, 23310, 23332, 23361, 23362, 23415, 23446, 23569, 23588, 23591, 23615, 23635, 23641, 23676, 23803, 23850, 23858, 23882, 23883, 23913, 23920, 23969, 23994, 24013, 24069, 24093, 24106, 24173, 24177, 24193, 24201, 24217, 24257, 24317, 24363, 24367, 24384, 24394, 24405, 24416, 24424, 24452, 24457, 24458, 24470, 24481, 24487, 24489]\n",
      "minute grouping: 3.9\n"
     ]
    },
    {
     "data": {
      "image/png": "[encoded data removed]",
      "text/plain": [
       "<Figure size 864x324 with 1 Axes>"
      ]
     },
     "metadata": {
      "needs_background": "light"
     },
     "output_type": "display_data"
    }
   ],
   "source": [
    "# sample timestamps for each trip\n",
    "\n",
    "times = [round(np.interp(random.random(), cum_int, seconds_int)) for x in range(passengers['total_trips'])]\n",
    "\n",
    "# times = times.sort()\n",
    "\n",
    "times_scale = [x/(60*60) for x in times]\n",
    "\n",
    "times.sort()\n",
    "print(times[:50])\n",
    "\n",
    "bins = 200\n",
    "\n",
    "min_groups = ((end - start) / bins) / 60\n",
    "\n",
    "\n",
    "print('minute grouping:', min_groups)\n",
    "\n",
    "\n",
    "f = plt.figure()\n",
    "f.set_figwidth(8*1.5)\n",
    "f.set_figheight(3*1.5)\n",
    "\n",
    "plt.hist(times_scale, bins)\n",
    "\n",
    "plt.plot(seconds_int / (60*60), norm_int * passengers['total_trips'])\n",
    "plt.title('Number of trips (bin size = '+ str(min_groups) + ' mins)')\n",
    "plt.xlabel('Hour of Day')\n",
    "plt.ylabel('Trips')\n",
    "\n",
    "plt.legend(['Demand Curve','Sampled Trips'])\n",
    "\n",
    "\n",
    "import io\n",
    "import base64\n",
    "\n",
    "iobytes = io.BytesIO()\n",
    "plt.savefig(iobytes, format='jpg')\n",
    "iobytes.seek(0)\n",
    "distPlot = base64.b64encode(iobytes.read())\n",
    "\n"
   ]
  },
  {
   "cell_type": "code",
   "execution_count": 7,
   "metadata": {},
   "outputs": [
    {
     "name": "stdout",
     "output_type": "stream",
     "text": [
      "len 6094 6094\n",
      "weight: 68 trips: ['0-35', '35-0'] timestamps ['09:09:26', '13:28:11']\n",
      "weight: 107 trips: ['0-20', '20-4', '4-56', '56-41', '41-29', '29-0'] timestamps ['08:46:23', '09:41:12', '11:46:12', '12:05:01', '12:17:06', '18:21:02']\n",
      "weight: 93 trips: ['0-79', '79-0'] timestamps ['16:00:52', '16:49:47']\n",
      "weight: 123 trips: ['0-26', '26-10', '10-77', '77-33', '33-0'] timestamps ['12:07:52', '12:32:09', '13:07:13', '13:09:36', '14:02:45']\n",
      "weight: 10 trips: ['0-34', '34-0'] timestamps ['08:46:27', '17:43:14']\n",
      "weight: 62 trips: ['0-66', '66-1', '1-0'] timestamps ['07:35:43', '07:36:03', '16:20:14']\n",
      "weight: 55 trips: ['0-5', '5-79', '79-43', '43-37', '37-0'] timestamps ['08:48:50', '12:58:46', '13:05:34', '17:10:09', '17:50:03']\n",
      "weight: 102 trips: ['0-70', '70-35', '35-75', '75-24', '24-0'] timestamps ['08:06:53', '09:08:20', '09:24:47', '17:42:55', '18:21:39']\n",
      "weight: 36 trips: ['0-46', '46-5', '5-32', '32-58', '58-50', '50-0'] timestamps ['07:29:18', '07:34:35', '08:13:53', '08:32:43', '09:36:41', '12:54:26']\n",
      "weight: 66 trips: ['0-15', '15-24', '24-56', '56-25', '25-74', '74-0'] timestamps ['07:33:50', '12:46:40', '13:15:33', '17:32:45', '17:48:09', '18:40:26']\n"
     ]
    }
   ],
   "source": [
    "# export data:\n",
    "\n",
    "import pickle\n",
    "\n",
    "db = dict({\n",
    "    'passengers': passengers['passengers'], \n",
    "    'traffic_times': times, \n",
    "    'traffic_passengers': shuffled_trips,\n",
    "    'simulation_params': simulation_params,\n",
    "    'distribution': str(distPlot),\n",
    "})\n",
    "\n",
    "\n",
    "filename = \"p{}e{}f{}.bin\".format(simulation_params['passengers'],simulation_params['elevators'], simulation_params['floors'])\n",
    "\n",
    "with open(filename, 'wb') as f:\n",
    "    pickle.dump(db, f)\n",
    "\n",
    "\n",
    "def secondstotime(sec):\n",
    "    hours = int(sec / (60*60))\n",
    "    remainder = sec - (60*60*hours)\n",
    "    mins = int(remainder / 60)\n",
    "    remainder = round(remainder - (60*mins))\n",
    "    return '{:02d}:{:02d}:{:02d}'.format(hours, mins, remainder)\n",
    "\n",
    "print('len', len(shuffled_trips), len(times))\n",
    "\n",
    "import pandas as pd\n",
    "\n",
    "for index, passenger in enumerate(passengers['passengers'][:10]):\n",
    "    indices = [i for i, passenger_id in enumerate(shuffled_trips) if passenger_id == index]\n",
    "    timestamps = [secondstotime(times[trip_id]) for trip_id in indices]\n",
    "    trips = [ '{}-{}'.format(passenger.route[i], passenger.route[i+1]) for i in range(len(passenger.route)) if i < len(passenger.route)-1]\n",
    "    print('weight:', round(passenger.weight), 'trips:', trips, 'timestamps',  timestamps)\n"
   ]
  }
 ],
 "metadata": {
  "kernelspec": {
   "display_name": "Python 3 (ipykernel)",
   "language": "python",
   "name": "python3"
  },
  "language_info": {
   "codemirror_mode": {
    "name": "ipython",
    "version": 3
   },
   "file_extension": ".py",
   "mimetype": "text/x-python",
   "name": "python",
   "nbconvert_exporter": "python",
   "pygments_lexer": "ipython3",
   "version": "3.10.2"
  },
  "vscode": {
   "interpreter": {
    "hash": "c5949226b9bd657367dc812a6053effeb5db480ba580e48ec130fe7b4d124ef4"
   }
  }
 },
 "nbformat": 4,
 "nbformat_minor": 2
}
