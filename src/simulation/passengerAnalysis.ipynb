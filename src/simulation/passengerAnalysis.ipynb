{
 "cells": [
  {
   "cell_type": "code",
   "execution_count": 14,
   "id": "3f27e41e",
   "metadata": {},
   "outputs": [
    {
     "data": {
      "text/plain": [
       "{'weight': 95.72861889340082,\n",
       " 'route': [0, 29, 0],\n",
       " 'floor': 0,\n",
       " 'route_index': 0,\n",
       " 'state': <States.Waiting: 2>,\n",
       " 'waitingTime': 33022.0,\n",
       " 'rideTime': 0}"
      ]
     },
     "execution_count": 14,
     "metadata": {},
     "output_type": "execute_result"
    }
   ],
   "source": [
    "import pickle\n",
    "import pandas as pd\n",
    "import matplotlib.pyplot as plt\n",
    "from passenger import *\n",
    "\n",
    "\n",
    "# file = open('out_p1500e10f50cSimpleRevisedRouteController.bin', 'rb')\n",
    "file = open('out_p1500e15f50cSimpleRevisedRouteController.bin', 'rb')\n",
    "\n",
    "db = pickle.load(file)\n",
    "passengers = db['passengers']\n",
    "file.close\n",
    "\n",
    "\n",
    "p_dict = [vars(passenger) for passenger in passengers]\n",
    "\n",
    "\n",
    "p_dict[0]\n"
   ]
  },
  {
   "cell_type": "code",
   "execution_count": 15,
   "id": "27eaa7e6",
   "metadata": {},
   "outputs": [
    {
     "data": {
      "text/html": [
       "<div>\n",
       "<style scoped>\n",
       "    .dataframe tbody tr th:only-of-type {\n",
       "        vertical-align: middle;\n",
       "    }\n",
       "\n",
       "    .dataframe tbody tr th {\n",
       "        vertical-align: top;\n",
       "    }\n",
       "\n",
       "    .dataframe thead th {\n",
       "        text-align: right;\n",
       "    }\n",
       "</style>\n",
       "<table border=\"1\" class=\"dataframe\">\n",
       "  <thead>\n",
       "    <tr style=\"text-align: right;\">\n",
       "      <th></th>\n",
       "      <th>weight</th>\n",
       "      <th>route</th>\n",
       "      <th>floor</th>\n",
       "      <th>route_index</th>\n",
       "      <th>state</th>\n",
       "      <th>waitingTime</th>\n",
       "      <th>rideTime</th>\n",
       "    </tr>\n",
       "  </thead>\n",
       "  <tbody>\n",
       "    <tr>\n",
       "      <th>0</th>\n",
       "      <td>95.728619</td>\n",
       "      <td>[0, 29, 0]</td>\n",
       "      <td>0</td>\n",
       "      <td>0</td>\n",
       "      <td>States.Waiting</td>\n",
       "      <td>33022.0</td>\n",
       "      <td>0.0</td>\n",
       "    </tr>\n",
       "    <tr>\n",
       "      <th>1</th>\n",
       "      <td>117.621122</td>\n",
       "      <td>[0, 42, 6, 2, 0]</td>\n",
       "      <td>0</td>\n",
       "      <td>0</td>\n",
       "      <td>States.Waiting</td>\n",
       "      <td>31493.0</td>\n",
       "      <td>0.0</td>\n",
       "    </tr>\n",
       "    <tr>\n",
       "      <th>2</th>\n",
       "      <td>86.082854</td>\n",
       "      <td>[0, 45, 9, 0]</td>\n",
       "      <td>0</td>\n",
       "      <td>3</td>\n",
       "      <td>States.Idle</td>\n",
       "      <td>7651.5</td>\n",
       "      <td>2071.0</td>\n",
       "    </tr>\n",
       "    <tr>\n",
       "      <th>3</th>\n",
       "      <td>116.442896</td>\n",
       "      <td>[0, 9, 36, 0]</td>\n",
       "      <td>0</td>\n",
       "      <td>0</td>\n",
       "      <td>States.Waiting</td>\n",
       "      <td>35624.5</td>\n",
       "      <td>0.0</td>\n",
       "    </tr>\n",
       "    <tr>\n",
       "      <th>4</th>\n",
       "      <td>58.098795</td>\n",
       "      <td>[0, 11, 27, 14, 0]</td>\n",
       "      <td>0</td>\n",
       "      <td>4</td>\n",
       "      <td>States.Idle</td>\n",
       "      <td>32090.5</td>\n",
       "      <td>2095.5</td>\n",
       "    </tr>\n",
       "    <tr>\n",
       "      <th>...</th>\n",
       "      <td>...</td>\n",
       "      <td>...</td>\n",
       "      <td>...</td>\n",
       "      <td>...</td>\n",
       "      <td>...</td>\n",
       "      <td>...</td>\n",
       "      <td>...</td>\n",
       "    </tr>\n",
       "    <tr>\n",
       "      <th>1495</th>\n",
       "      <td>49.619487</td>\n",
       "      <td>[0, 28, 41, 33, 7, 4, 0]</td>\n",
       "      <td>0</td>\n",
       "      <td>6</td>\n",
       "      <td>States.Idle</td>\n",
       "      <td>13472.5</td>\n",
       "      <td>3331.0</td>\n",
       "    </tr>\n",
       "    <tr>\n",
       "      <th>1496</th>\n",
       "      <td>52.336139</td>\n",
       "      <td>[0, 48, 0]</td>\n",
       "      <td>0</td>\n",
       "      <td>2</td>\n",
       "      <td>States.Idle</td>\n",
       "      <td>216.0</td>\n",
       "      <td>411.5</td>\n",
       "    </tr>\n",
       "    <tr>\n",
       "      <th>1497</th>\n",
       "      <td>63.485566</td>\n",
       "      <td>[0, 16, 35, 7, 17, 44, 0]</td>\n",
       "      <td>0</td>\n",
       "      <td>6</td>\n",
       "      <td>States.Idle</td>\n",
       "      <td>5144.0</td>\n",
       "      <td>2883.0</td>\n",
       "    </tr>\n",
       "    <tr>\n",
       "      <th>1498</th>\n",
       "      <td>41.751772</td>\n",
       "      <td>[0, 17, 31, 16, 20, 19, 0]</td>\n",
       "      <td>0</td>\n",
       "      <td>6</td>\n",
       "      <td>States.Idle</td>\n",
       "      <td>10415.5</td>\n",
       "      <td>2304.5</td>\n",
       "    </tr>\n",
       "    <tr>\n",
       "      <th>1499</th>\n",
       "      <td>110.419211</td>\n",
       "      <td>[0, 5, 0]</td>\n",
       "      <td>0</td>\n",
       "      <td>2</td>\n",
       "      <td>States.Idle</td>\n",
       "      <td>2799.5</td>\n",
       "      <td>746.5</td>\n",
       "    </tr>\n",
       "  </tbody>\n",
       "</table>\n",
       "<p>1500 rows × 7 columns</p>\n",
       "</div>"
      ],
      "text/plain": [
       "          weight                       route  floor  route_index  \\\n",
       "0      95.728619                  [0, 29, 0]      0            0   \n",
       "1     117.621122            [0, 42, 6, 2, 0]      0            0   \n",
       "2      86.082854               [0, 45, 9, 0]      0            3   \n",
       "3     116.442896               [0, 9, 36, 0]      0            0   \n",
       "4      58.098795          [0, 11, 27, 14, 0]      0            4   \n",
       "...          ...                         ...    ...          ...   \n",
       "1495   49.619487    [0, 28, 41, 33, 7, 4, 0]      0            6   \n",
       "1496   52.336139                  [0, 48, 0]      0            2   \n",
       "1497   63.485566   [0, 16, 35, 7, 17, 44, 0]      0            6   \n",
       "1498   41.751772  [0, 17, 31, 16, 20, 19, 0]      0            6   \n",
       "1499  110.419211                   [0, 5, 0]      0            2   \n",
       "\n",
       "               state  waitingTime  rideTime  \n",
       "0     States.Waiting      33022.0       0.0  \n",
       "1     States.Waiting      31493.0       0.0  \n",
       "2        States.Idle       7651.5    2071.0  \n",
       "3     States.Waiting      35624.5       0.0  \n",
       "4        States.Idle      32090.5    2095.5  \n",
       "...              ...          ...       ...  \n",
       "1495     States.Idle      13472.5    3331.0  \n",
       "1496     States.Idle        216.0     411.5  \n",
       "1497     States.Idle       5144.0    2883.0  \n",
       "1498     States.Idle      10415.5    2304.5  \n",
       "1499     States.Idle       2799.5     746.5  \n",
       "\n",
       "[1500 rows x 7 columns]"
      ]
     },
     "execution_count": 15,
     "metadata": {},
     "output_type": "execute_result"
    }
   ],
   "source": [
    "data = pd.DataFrame.from_records(p_dict)\n",
    "data"
   ]
  },
  {
   "cell_type": "code",
   "execution_count": 16,
   "id": "941ad63b",
   "metadata": {},
   "outputs": [
    {
     "data": {
      "text/plain": [
       "<AxesSubplot:ylabel='Frequency'>"
      ]
     },
     "execution_count": 16,
     "metadata": {},
     "output_type": "execute_result"
    },
    {
     "data": {
      "image/png": "[encoded data removed]",
      "text/plain": [
       "<Figure size 432x288 with 1 Axes>"
      ]
     },
     "metadata": {
      "needs_background": "light"
     },
     "output_type": "display_data"
    }
   ],
   "source": [
    "data['weight'].plot.hist(bins=10)"
   ]
  },
  {
   "cell_type": "code",
   "execution_count": 17,
   "id": "07507229",
   "metadata": {},
   "outputs": [
    {
     "data": {
      "text/html": [
       "<div>\n",
       "<style scoped>\n",
       "    .dataframe tbody tr th:only-of-type {\n",
       "        vertical-align: middle;\n",
       "    }\n",
       "\n",
       "    .dataframe tbody tr th {\n",
       "        vertical-align: top;\n",
       "    }\n",
       "\n",
       "    .dataframe thead th {\n",
       "        text-align: right;\n",
       "    }\n",
       "</style>\n",
       "<table border=\"1\" class=\"dataframe\">\n",
       "  <thead>\n",
       "    <tr style=\"text-align: right;\">\n",
       "      <th></th>\n",
       "      <th>weight</th>\n",
       "      <th>route</th>\n",
       "      <th>floor</th>\n",
       "      <th>route_index</th>\n",
       "      <th>state</th>\n",
       "      <th>waitingTime</th>\n",
       "      <th>rideTime</th>\n",
       "      <th>meanWait</th>\n",
       "      <th>meanTravel</th>\n",
       "    </tr>\n",
       "  </thead>\n",
       "  <tbody>\n",
       "    <tr>\n",
       "      <th>0</th>\n",
       "      <td>95.728619</td>\n",
       "      <td>[0, 29, 0]</td>\n",
       "      <td>0</td>\n",
       "      <td>0</td>\n",
       "      <td>States.Waiting</td>\n",
       "      <td>33022.0</td>\n",
       "      <td>0.0</td>\n",
       "      <td>11007.333333</td>\n",
       "      <td>0.000000</td>\n",
       "    </tr>\n",
       "    <tr>\n",
       "      <th>1</th>\n",
       "      <td>117.621122</td>\n",
       "      <td>[0, 42, 6, 2, 0]</td>\n",
       "      <td>0</td>\n",
       "      <td>0</td>\n",
       "      <td>States.Waiting</td>\n",
       "      <td>31493.0</td>\n",
       "      <td>0.0</td>\n",
       "      <td>6298.600000</td>\n",
       "      <td>0.000000</td>\n",
       "    </tr>\n",
       "    <tr>\n",
       "      <th>2</th>\n",
       "      <td>86.082854</td>\n",
       "      <td>[0, 45, 9, 0]</td>\n",
       "      <td>0</td>\n",
       "      <td>3</td>\n",
       "      <td>States.Idle</td>\n",
       "      <td>7651.5</td>\n",
       "      <td>2071.0</td>\n",
       "      <td>1912.875000</td>\n",
       "      <td>517.750000</td>\n",
       "    </tr>\n",
       "    <tr>\n",
       "      <th>3</th>\n",
       "      <td>116.442896</td>\n",
       "      <td>[0, 9, 36, 0]</td>\n",
       "      <td>0</td>\n",
       "      <td>0</td>\n",
       "      <td>States.Waiting</td>\n",
       "      <td>35624.5</td>\n",
       "      <td>0.0</td>\n",
       "      <td>8906.125000</td>\n",
       "      <td>0.000000</td>\n",
       "    </tr>\n",
       "    <tr>\n",
       "      <th>4</th>\n",
       "      <td>58.098795</td>\n",
       "      <td>[0, 11, 27, 14, 0]</td>\n",
       "      <td>0</td>\n",
       "      <td>4</td>\n",
       "      <td>States.Idle</td>\n",
       "      <td>32090.5</td>\n",
       "      <td>2095.5</td>\n",
       "      <td>6418.100000</td>\n",
       "      <td>419.100000</td>\n",
       "    </tr>\n",
       "    <tr>\n",
       "      <th>...</th>\n",
       "      <td>...</td>\n",
       "      <td>...</td>\n",
       "      <td>...</td>\n",
       "      <td>...</td>\n",
       "      <td>...</td>\n",
       "      <td>...</td>\n",
       "      <td>...</td>\n",
       "      <td>...</td>\n",
       "      <td>...</td>\n",
       "    </tr>\n",
       "    <tr>\n",
       "      <th>1495</th>\n",
       "      <td>49.619487</td>\n",
       "      <td>[0, 28, 41, 33, 7, 4, 0]</td>\n",
       "      <td>0</td>\n",
       "      <td>6</td>\n",
       "      <td>States.Idle</td>\n",
       "      <td>13472.5</td>\n",
       "      <td>3331.0</td>\n",
       "      <td>1924.642857</td>\n",
       "      <td>475.857143</td>\n",
       "    </tr>\n",
       "    <tr>\n",
       "      <th>1496</th>\n",
       "      <td>52.336139</td>\n",
       "      <td>[0, 48, 0]</td>\n",
       "      <td>0</td>\n",
       "      <td>2</td>\n",
       "      <td>States.Idle</td>\n",
       "      <td>216.0</td>\n",
       "      <td>411.5</td>\n",
       "      <td>72.000000</td>\n",
       "      <td>137.166667</td>\n",
       "    </tr>\n",
       "    <tr>\n",
       "      <th>1497</th>\n",
       "      <td>63.485566</td>\n",
       "      <td>[0, 16, 35, 7, 17, 44, 0]</td>\n",
       "      <td>0</td>\n",
       "      <td>6</td>\n",
       "      <td>States.Idle</td>\n",
       "      <td>5144.0</td>\n",
       "      <td>2883.0</td>\n",
       "      <td>734.857143</td>\n",
       "      <td>411.857143</td>\n",
       "    </tr>\n",
       "    <tr>\n",
       "      <th>1498</th>\n",
       "      <td>41.751772</td>\n",
       "      <td>[0, 17, 31, 16, 20, 19, 0]</td>\n",
       "      <td>0</td>\n",
       "      <td>6</td>\n",
       "      <td>States.Idle</td>\n",
       "      <td>10415.5</td>\n",
       "      <td>2304.5</td>\n",
       "      <td>1487.928571</td>\n",
       "      <td>329.214286</td>\n",
       "    </tr>\n",
       "    <tr>\n",
       "      <th>1499</th>\n",
       "      <td>110.419211</td>\n",
       "      <td>[0, 5, 0]</td>\n",
       "      <td>0</td>\n",
       "      <td>2</td>\n",
       "      <td>States.Idle</td>\n",
       "      <td>2799.5</td>\n",
       "      <td>746.5</td>\n",
       "      <td>933.166667</td>\n",
       "      <td>248.833333</td>\n",
       "    </tr>\n",
       "  </tbody>\n",
       "</table>\n",
       "<p>1500 rows × 9 columns</p>\n",
       "</div>"
      ],
      "text/plain": [
       "          weight                       route  floor  route_index  \\\n",
       "0      95.728619                  [0, 29, 0]      0            0   \n",
       "1     117.621122            [0, 42, 6, 2, 0]      0            0   \n",
       "2      86.082854               [0, 45, 9, 0]      0            3   \n",
       "3     116.442896               [0, 9, 36, 0]      0            0   \n",
       "4      58.098795          [0, 11, 27, 14, 0]      0            4   \n",
       "...          ...                         ...    ...          ...   \n",
       "1495   49.619487    [0, 28, 41, 33, 7, 4, 0]      0            6   \n",
       "1496   52.336139                  [0, 48, 0]      0            2   \n",
       "1497   63.485566   [0, 16, 35, 7, 17, 44, 0]      0            6   \n",
       "1498   41.751772  [0, 17, 31, 16, 20, 19, 0]      0            6   \n",
       "1499  110.419211                   [0, 5, 0]      0            2   \n",
       "\n",
       "               state  waitingTime  rideTime      meanWait  meanTravel  \n",
       "0     States.Waiting      33022.0       0.0  11007.333333    0.000000  \n",
       "1     States.Waiting      31493.0       0.0   6298.600000    0.000000  \n",
       "2        States.Idle       7651.5    2071.0   1912.875000  517.750000  \n",
       "3     States.Waiting      35624.5       0.0   8906.125000    0.000000  \n",
       "4        States.Idle      32090.5    2095.5   6418.100000  419.100000  \n",
       "...              ...          ...       ...           ...         ...  \n",
       "1495     States.Idle      13472.5    3331.0   1924.642857  475.857143  \n",
       "1496     States.Idle        216.0     411.5     72.000000  137.166667  \n",
       "1497     States.Idle       5144.0    2883.0    734.857143  411.857143  \n",
       "1498     States.Idle      10415.5    2304.5   1487.928571  329.214286  \n",
       "1499     States.Idle       2799.5     746.5    933.166667  248.833333  \n",
       "\n",
       "[1500 rows x 9 columns]"
      ]
     },
     "execution_count": 17,
     "metadata": {},
     "output_type": "execute_result"
    }
   ],
   "source": [
    "data['meanWait'] = data.waitingTime / data['route'].map(len)\n",
    "data['meanTravel'] = data.rideTime / data['route'].map(len)\n",
    "data"
   ]
  },
  {
   "cell_type": "code",
   "execution_count": 18,
   "id": "e5237c0b",
   "metadata": {},
   "outputs": [
    {
     "data": {
      "text/plain": [
       "<AxesSubplot:ylabel='Frequency'>"
      ]
     },
     "execution_count": 18,
     "metadata": {},
     "output_type": "execute_result"
    },
    {
     "data": {
      "image/png": "[encoded data removed]",
      "text/plain": [
       "<Figure size 432x288 with 1 Axes>"
      ]
     },
     "metadata": {
      "needs_background": "light"
     },
     "output_type": "display_data"
    }
   ],
   "source": [
    "from cProfile import label\n",
    "\n",
    "\n",
    "data.meanWait.plot.hist(alpha=0.5, bins=10)\n",
    "# data.meanTravel.plot.hist(alpha=0.5)\n",
    "# (data.meanWait + data.meanTravel).plot.hist(alpha=0.5, label=\"combined\")\n",
    "# plt.legend()"
   ]
  },
  {
   "cell_type": "code",
   "execution_count": 19,
   "id": "e5c37bf9",
   "metadata": {},
   "outputs": [
    {
     "data": {
      "text/plain": [
       "count     1500.000000\n",
       "mean      5132.484440\n",
       "std       3216.233996\n",
       "min         72.000000\n",
       "25%       2257.508333\n",
       "50%       5078.933333\n",
       "75%       7333.350000\n",
       "max      12930.666667\n",
       "Name: meanWait, dtype: float64"
      ]
     },
     "execution_count": 19,
     "metadata": {},
     "output_type": "execute_result"
    }
   ],
   "source": [
    "data.meanWait.describe()"
   ]
  },
  {
   "cell_type": "code",
   "execution_count": 42,
   "id": "1c6f9abf",
   "metadata": {},
   "outputs": [
    {
     "name": "stdout",
     "output_type": "stream",
     "text": [
      "Estimated throughput: 0.11633333333333333\n"
     ]
    },
    {
     "data": {
      "image/png": "[encoded data removed]",
      "text/plain": [
       "<Figure size 432x288 with 1 Axes>"
      ]
     },
     "metadata": {
      "needs_background": "light"
     },
     "output_type": "display_data"
    }
   ],
   "source": [
    "throughput = db['throughput']\n",
    "\n",
    "\n",
    "elevator_raw = pd.DataFrame(throughput['elevator']).rolling(10).mean()\n",
    "approx = [elevator_raw.max()[0]] * len(throughput['timestamps'])\n",
    "plt.plot(throughput['timestamps'], throughput['elevator'])\n",
    "plt.plot(throughput['timestamps'], throughput['demand'])\n",
    "plt.plot(throughput['timestamps'], elevator_raw)\n",
    "plt.plot(throughput['timestamps'], approx)\n",
    "\n",
    "print('Estimated throughput:', elevator_raw.max()[0])\n"
   ]
  }
 ],
 "metadata": {
  "kernelspec": {
   "display_name": "Python 3.10.2 64-bit",
   "language": "python",
   "name": "python3"
  },
  "language_info": {
   "codemirror_mode": {
    "name": "ipython",
    "version": 3
   },
   "file_extension": ".py",
   "mimetype": "text/x-python",
   "name": "python",
   "nbconvert_exporter": "python",
   "pygments_lexer": "ipython3",
   "version": "3.10.2"
  },
  "vscode": {
   "interpreter": {
    "hash": "c5949226b9bd657367dc812a6053effeb5db480ba580e48ec130fe7b4d124ef4"
   }
  }
 },
 "nbformat": 4,
 "nbformat_minor": 5
}
