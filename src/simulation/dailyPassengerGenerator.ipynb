{
 "cells": [
  {
   "cell_type": "markdown",
   "metadata": {},
   "source": [
    "\n",
    "The objective of this file is to generate a list of timestamps for when a passenger\n",
    "should initiate a trip between floors. \n",
    "This file generates a list of passengers, and their trips.\n",
    "Additionally an array of tuples containing a timestamp in seconds \n",
    "from 6AM to around 7PM as well as a passenger id will generated\n",
    "this indicates that the passenger should initiate a trip."
   ]
  },
  {
   "cell_type": "code",
   "execution_count": 23,
   "metadata": {},
   "outputs": [
    {
     "data": {
      "text/plain": [
       "[<matplotlib.lines.Line2D at 0x1f935184f40>]"
      ]
     },
     "execution_count": 23,
     "metadata": {},
     "output_type": "execute_result"
    },
    {
     "data": {
      "image/png": "[encoded data removed]",
      "text/plain": [
       "<Figure size 432x288 with 1 Axes>"
      ]
     },
     "metadata": {
      "needs_background": "light"
     },
     "output_type": "display_data"
    }
   ],
   "source": [
    "from passenger import *\n",
    "import numpy as np\n",
    "from scipy import interpolate\n",
    "from scipy import integrate\n",
    "import matplotlib.pyplot as plt\n",
    "import random\n",
    "\n",
    "\n",
    "# // -------- Simulation Constants --------\n",
    "\n",
    "simulation_params = {\n",
    "    'floors': 50,\n",
    "    'elevators': 10, \n",
    "    'loading_time': 6, # seconds\n",
    "    'offloading_time': 6, # seconds\n",
    "    'time_per_floor': 4, # seconds\n",
    "    'floor_height': 4, # metres\n",
    "    'dt': 1, # seconds simulation step interval\n",
    "    'passengers': 1500,\n",
    "\n",
    "}\n",
    "\n",
    "hours = np.array([6, 7, 8, 9, 10, 11, 12, 13, 14, 15, 16, 17, 18, 19])\n",
    "val =   np.array([0, 30, 75, 50, 30, 10, 50, 90, 15, 10, 10, 20, 50, 0])\n",
    "\n",
    "\n",
    "h2s = 60 * 60\n",
    "\n",
    "seconds = hours * 60 * 60\n",
    "seconds_int = np.linspace(6 * h2s, 19 * h2s, num = 150, endpoint=True)\n",
    "tk = interpolate.splrep(seconds, val)\n",
    "val_int = interpolate.splev(seconds_int, tk)\n",
    "val_int = val_int.clip(min=0)\n",
    "\n",
    "start = np.min(seconds_int)\n",
    "end = np.max(seconds_int)\n",
    "\n",
    "simulation_params['start'] = start\n",
    "simulation_params['end'] = end\n",
    "\n",
    "norm_int = val_int / np.sum(val_int)\n",
    "\n",
    "cum_int = np.cumsum(norm_int) \n",
    "\n",
    "plt.plot(seconds_int, norm_int)\n"
   ]
  },
  {
   "cell_type": "markdown",
   "metadata": {},
   "source": [
    "The function below generates Passengers as well as the trips that they will make\n",
    "\n",
    "*Assumptions*:\n",
    "- Weights are normaly distributed mean: 65kg and standard deviation of 30kg (assuming luggage)\n",
    "- passengers always start and end at floor 0.\n",
    "- Passengers can make up to 7 trips in a day and at least 2 (one up and down)\n"
   ]
  },
  {
   "cell_type": "code",
   "execution_count": 24,
   "metadata": {},
   "outputs": [],
   "source": [
    "\n",
    "def generatePassengers(n, sp):\n",
    "    \n",
    "    weights = np.clip(np.random.normal(65, 30, n), 10, 170)\n",
    "    trips = np.random.randint(3, 8, n)\n",
    "    \n",
    "    select = np.random.randint(0, sp['floors'], np.sum(trips - 2))\n",
    "    select_index = 0\n",
    "\n",
    "    out = []\n",
    "\n",
    "    tripOwner = []\n",
    "\n",
    "    for i in range(n):\n",
    "        route = [0] * trips[i]\n",
    "\n",
    "        tripOwner.extend([i] * (trips[i]-1))\n",
    "\n",
    "        for y in range (1, trips[i]-1):\n",
    "            route[y] = select[select_index]\n",
    "            select_index = select_index + 1\n",
    "\n",
    "            while(route[y] == route[y-1]):\n",
    "                route[y] = np.random.randint(1, sp['floors'] - 1, 1)[0]\n",
    "\n",
    "        # check last route is not 0\n",
    "        while(route[trips[i]-2] == route[trips[i]-1]):\n",
    "            route[trips[i]-2] = np.random.randint(1, sp['floors'] - 1, 1)[0]\n",
    "\n",
    "\n",
    "        out.append(Passenger(weights[i], route))\n",
    "\n",
    "    return {\n",
    "        'passengers': out,\n",
    "        'total_trips': sum(trips) - n,\n",
    "        'trip_owner': tripOwner\n",
    "    }\n"
   ]
  },
  {
   "cell_type": "code",
   "execution_count": 25,
   "metadata": {},
   "outputs": [
    {
     "name": "stdout",
     "output_type": "stream",
     "text": [
      "5924 5924\n"
     ]
    }
   ],
   "source": [
    "# Assume the building of 10 floors has 200 people\n",
    "\n",
    "passengers = generatePassengers(simulation_params['passengers'], simulation_params)\n",
    "\n",
    "print(passengers['total_trips'], len(passengers['trip_owner']))"
   ]
  },
  {
   "cell_type": "code",
   "execution_count": 26,
   "metadata": {},
   "outputs": [
    {
     "data": {
      "text/plain": [
       "[1158,\n",
       " 1141,\n",
       " 738,\n",
       " 453,\n",
       " 1378,\n",
       " 934,\n",
       " 326,\n",
       " 1069,\n",
       " 1138,\n",
       " 1251,\n",
       " 454,\n",
       " 1297,\n",
       " 729,\n",
       " 1028,\n",
       " 721,\n",
       " 656,\n",
       " 1392,\n",
       " 77,\n",
       " 438,\n",
       " 76]"
      ]
     },
     "execution_count": 26,
     "metadata": {},
     "output_type": "execute_result"
    }
   ],
   "source": [
    "\n",
    "shuffled_trips = list(passengers['trip_owner']); random.shuffle(shuffled_trips)\n",
    "\n",
    "shuffled_trips[:20]\n"
   ]
  },
  {
   "cell_type": "code",
   "execution_count": 41,
   "metadata": {},
   "outputs": [
    {
     "name": "stdout",
     "output_type": "stream",
     "text": [
      "[22923, 23127, 23192, 23199, 23233, 23261, 23517, 23542, 23544, 23597, 23616, 23631, 23695, 23715, 23767, 23772, 23778, 23805, 23841, 23850, 23850, 23876, 23907, 23923, 23947, 23969, 23974, 23974, 23977, 23981, 23990, 23995, 24041, 24049, 24088, 24097, 24124, 24135, 24153, 24194, 24197, 24205, 24207, 24214, 24221, 24232, 24244, 24245, 24273, 24329]\n",
      "minute grouping: 3.9\n"
     ]
    },
    {
     "data": {
      "image/png": "[encoded data removed]",
      "text/plain": [
       "<Figure size 864x324 with 1 Axes>"
      ]
     },
     "metadata": {
      "needs_background": "light"
     },
     "output_type": "display_data"
    }
   ],
   "source": [
    "# sample timestamps for each trip\n",
    "\n",
    "times = [round(np.interp(random.random(), cum_int, seconds_int)) for x in range(passengers['total_trips'])]\n",
    "\n",
    "# times = times.sort()\n",
    "\n",
    "times_scale = [x/(60*60) for x in times]\n",
    "\n",
    "times.sort()\n",
    "print(times[:50])\n",
    "\n",
    "bins = 200\n",
    "\n",
    "min_groups = ((end - start) / bins) / 60\n",
    "\n",
    "\n",
    "print('minute grouping:', min_groups)\n",
    "\n",
    "\n",
    "f = plt.figure()\n",
    "f.set_figwidth(8*1.5)\n",
    "f.set_figheight(3*1.5)\n",
    "\n",
    "plt.hist(times_scale, bins)\n",
    "\n",
    "plt.plot(seconds_int / (60*60), norm_int * passengers['total_trips'])\n",
    "plt.title('Number of trips (bin size = '+ str(min_groups) + ' mins)')\n",
    "plt.xlabel('Hour of Day')\n",
    "plt.ylabel('Trips')\n",
    "\n",
    "plt.legend(['Demand Curve','Sampled Trips'])\n",
    "\n",
    "\n",
    "import io\n",
    "import base64\n",
    "\n",
    "iobytes = io.BytesIO()\n",
    "plt.savefig(iobytes, format='jpg')\n",
    "iobytes.seek(0)\n",
    "distPlot = base64.b64encode(iobytes.read())\n",
    "\n"
   ]
  },
  {
   "cell_type": "code",
   "execution_count": 43,
   "metadata": {},
   "outputs": [
    {
     "name": "stdout",
     "output_type": "stream",
     "text": [
      "len 5924 5924\n",
      "73 [0, 13, 42, 22, 0] [28674, 45412, 47837, 61426]\n",
      "78 [0, 13, 0] [42597, 67100]\n",
      "33 [0, 17, 30, 49, 25, 0] [29159, 29234, 44022, 45640, 46483]\n",
      "56 [0, 10, 12, 23, 0] [37510, 46558, 65639, 65846]\n",
      "56 [0, 9, 17, 19, 0] [31304, 45091, 48241, 61780]\n",
      "118 [0, 7, 0] [41693, 47079]\n",
      "44 [0, 26, 0] [39718, 65065]\n",
      "82 [0, 19, 2, 38, 21, 0] [43499, 44012, 44747, 63889, 66968]\n",
      "67 [0, 40, 1, 20, 42, 0] [29485, 33676, 36755, 65403, 66326]\n",
      "37 [0, 42, 48, 5, 22, 0] [40164, 47589, 49173, 53626, 63834]\n"
     ]
    }
   ],
   "source": [
    "# export data:\n",
    "\n",
    "import pickle\n",
    "\n",
    "db = dict({\n",
    "    'passengers': passengers['passengers'], \n",
    "    'traffic_times': times, \n",
    "    'traffic_passengers': shuffled_trips,\n",
    "    'simulation_params': simulation_params,\n",
    "    'distribution': str(distPlot),\n",
    "})\n",
    "\n",
    "\n",
    "filename = \"p{}e{}f{}.bin\".format(simulation_params['passengers'],simulation_params['elevators'], simulation_params['floors'])\n",
    "\n",
    "# with open(filename, 'wb') as f:\n",
    "#     pickle.dump(db, f)\n",
    "\n",
    "\n",
    "def secondstotime(sec):\n",
    "    hours = int(sec / (60*60))\n",
    "    remainder = sec - (60*60*hours)\n",
    "    mins = int(remainder / 60)\n",
    "    remainder = round(sec - (60*mins))\n",
    "    return '{:02d}:{:02d}:{:02d}'.format(hours, mins, remainder)\n",
    "\n",
    "print('len', len(shuffled_trips), len(times))\n",
    "\n",
    "for index, passenger in enumerate(passengers['passengers'][:10]):\n",
    "    indices = [i for i, passenger_id in enumerate(shuffled_trips) if passenger_id == index]\n",
    "    timestamps = [times[trip_id] for trip_id in indices]\n",
    "    print(round(passenger.weight), passenger.route, timestamps)\n"
   ]
  }
 ],
 "metadata": {
  "kernelspec": {
   "display_name": "Python 3 (ipykernel)",
   "language": "python",
   "name": "python3"
  },
  "language_info": {
   "codemirror_mode": {
    "name": "ipython",
    "version": 3
   },
   "file_extension": ".py",
   "mimetype": "text/x-python",
   "name": "python",
   "nbconvert_exporter": "python",
   "pygments_lexer": "ipython3",
   "version": "3.10.2"
  },
  "vscode": {
   "interpreter": {
    "hash": "c5949226b9bd657367dc812a6053effeb5db480ba580e48ec130fe7b4d124ef4"
   }
  }
 },
 "nbformat": 4,
 "nbformat_minor": 2
}
